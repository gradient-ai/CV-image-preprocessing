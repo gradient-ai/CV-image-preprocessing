{
 "cells": [
  {
   "cell_type": "code",
   "execution_count": null,
   "source": [
    "#  import these dependencies\n",
    "import numpy as np\n",
    "import matplotlib.pyplot as plt\n"
   ],
   "outputs": [],
   "metadata": {}
  },
  {
   "cell_type": "markdown",
   "source": [
    "# Creating simple images"
   ],
   "metadata": {}
  },
  {
   "cell_type": "code",
   "execution_count": null,
   "source": [
    "#  creating (9, 9) array of zeros\n",
    "image = np.zeros((9, 9))\n",
    "\n",
    "#  attempting to visualize array\n",
    "plt.imshow(image, cmap='gray')"
   ],
   "outputs": [],
   "metadata": {}
  },
  {
   "cell_type": "code",
   "execution_count": null,
   "source": [
    "#  creating a 1-D array (vector) of elements ranging from 0 to 80\n",
    "image = np.arange(81)\n",
    "#  reshaping vector into 2-D array\n",
    "image = image.reshape((9, 9))\n",
    "\n",
    "#  attempting to visualize array\n",
    "plt.imshow(image, cmap='gray')"
   ],
   "outputs": [],
   "metadata": {}
  },
  {
   "cell_type": "code",
   "execution_count": null,
   "source": [
    "#show array\n",
    "image\n"
   ],
   "outputs": [],
   "metadata": {}
  },
  {
   "cell_type": "markdown",
   "source": [
    "# Basic Image Manipulations"
   ],
   "metadata": {}
  },
  {
   "cell_type": "code",
   "execution_count": null,
   "source": [
    "def rotate(image_path, angle):\n",
    "    \"\"\"\n",
    "    This function rotates images at right angles\n",
    "    in a clockwise manner.\n",
    "    \"\"\"\n",
    "    if angle % 90 != 0:\n",
    "      print('can only rotate at right angles (90, 180, 270, 360)')\n",
    "      pass\n",
    "    else:\n",
    "      #  reading image\n",
    "      image = cv2.imread(image_path, cv2.IMREAD_GRAYSCALE)\n",
    "\n",
    "      #  rotating image\n",
    "      if angle == 90:\n",
    "        image = np.transpose(image)  # transposing array\n",
    "        image = image[:, ::-1]  # reversing columns\n",
    "        plt.imshow(image, cmap='gray')\n",
    "      elif angle == 180:\n",
    "        image = image[::-1, :]  # reversing rows\n",
    "        image = image[:, ::-1]  # reversing columns\n",
    "        plt.imshow(image, cmap='gray')\n",
    "      elif angle == 270:\n",
    "        image = np.transpose(image)  # transposing array\n",
    "        image = image[::-1, :]  # reversing rows\n",
    "        plt.imshow(image, cmap='gray')\n",
    "      else:\n",
    "        image = image\n",
    "        plt.imshow(image, cmap='gray')\n",
    "    pass\n"
   ],
   "outputs": [],
   "metadata": {}
  },
  {
   "cell_type": "code",
   "execution_count": null,
   "source": [
    "#  indexing and assigning\n",
    "image[7, 2:4] = 0\n"
   ],
   "outputs": [],
   "metadata": {}
  },
  {
   "cell_type": "markdown",
   "source": [
    "# Channels and colors"
   ],
   "metadata": {}
  },
  {
   "cell_type": "markdown",
   "source": [
    "## Red Colored J Atop A Black Canvas\n"
   ],
   "metadata": {}
  },
  {
   "cell_type": "code",
   "execution_count": null,
   "source": [
    "#  creating a 9x9 pixel image with 3 channels\n",
    "image = np.zeros((9, 9, 3)).astype(np.uint8)\n",
    "\n",
    "#  switching on pixels outlining the figure j in the red channel (channel 0)\n",
    "image[1, 2:-2, 0] = 255\n",
    "image[1:-1, 4, 0] = 255\n",
    "image[-2, 2:4, 0] = 255\n",
    "\n",
    "plt.imshow(image)\n"
   ],
   "outputs": [],
   "metadata": {}
  },
  {
   "cell_type": "markdown",
   "source": [
    "## Green Colored J Atop A Black Canvas"
   ],
   "metadata": {}
  },
  {
   "cell_type": "code",
   "execution_count": null,
   "source": [
    "#  creating a 9x9 pixel image with 3 channels\n",
    "image = np.zeros((9, 9, 3)).astype(np.uint8)\n",
    "\n",
    "#  switching on pixels outlining the figure j in the green channel (channel 1)\n",
    "image[1, 2:-2, 1] = 255\n",
    "image[1:-1, 4, 1] = 255\n",
    "image[-2, 2:4, 1] = 255\n",
    "\n",
    "plt.imshow(image)\n"
   ],
   "outputs": [],
   "metadata": {}
  },
  {
   "cell_type": "markdown",
   "source": [
    "## Blue Colored J Atop A Black Canvas"
   ],
   "metadata": {}
  },
  {
   "cell_type": "code",
   "execution_count": null,
   "source": [
    "#  creating a 9x9 pixel image with 3 channels\n",
    "image = np.zeros((9, 9, 3)).astype(np.uint8)\n",
    "\n",
    "#  switching on pixels outlining the figure j in the blue channel (channel 2)\n",
    "image[1, 2:-2, 2] = 255\n",
    "image[1:-1, 4, 2] = 255\n",
    "image[-2, 2:4, 2] = 255\n",
    "\n",
    "plt.imshow(image)\n"
   ],
   "outputs": [],
   "metadata": {}
  },
  {
   "cell_type": "markdown",
   "source": [
    "## Teal Colored J Atop A Burgundy Canvas"
   ],
   "metadata": {}
  },
  {
   "cell_type": "code",
   "execution_count": null,
   "source": [
    "#  creating array\n",
    "image = np.zeros((9, 9, 3)).astype(np.uint8)\n",
    "\n",
    "#  assigning background color in each channel\n",
    "image[:, :, 0] = 128\n",
    "image[:, :, 1] = 0\n",
    "image[:, :, 2] = 32\n",
    "\n",
    "#  outlining figure j in each channel\n",
    "image[1, 2:-2, 0] = 0\n",
    "image[1, 2:-2, 1] = 128\n",
    "image[1, 2:-2, 2] = 128\n",
    "\n",
    "image[1:-1, 4, 0] = 0\n",
    "image[1:-1, 4, 1] = 128\n",
    "image[1:-1, 4, 2] = 128\n",
    "\n",
    "image[-2, 2:4, 0] = 0\n",
    "image[-2, 2:4, 1] = 128\n",
    "image[-2, 2:4, 2] = 128\n",
    "\n",
    "plt.imshow(image)\n"
   ],
   "outputs": [],
   "metadata": {}
  },
  {
   "cell_type": "markdown",
   "source": [
    "# Color To Grayscale"
   ],
   "metadata": {}
  },
  {
   "cell_type": "code",
   "execution_count": null,
   "source": [
    "#  computing the average value of pixels across channels\n",
    "image = image.mean(axis=2)\n"
   ],
   "outputs": [],
   "metadata": {}
  },
  {
   "cell_type": "markdown",
   "source": [
    "## Grayscale images matplotlib"
   ],
   "metadata": {}
  },
  {
   "cell_type": "code",
   "execution_count": null,
   "source": [
    "#  creating array\n",
    "image = np.zeros((9, 9, 3))\n",
    "\n",
    "#  setting outline\n",
    "image[1, 2:-2, :] = 255\n",
    "image[1:-1, 4, :] = 255\n",
    "image[-2, 2:4, :] = 255\n",
    "\n",
    "plt.imshow(image)\n"
   ],
   "outputs": [],
   "metadata": {}
  }
 ],
 "metadata": {
  "orig_nbformat": 4,
  "language_info": {
   "name": "python"
  }
 },
 "nbformat": 4,
 "nbformat_minor": 2
}